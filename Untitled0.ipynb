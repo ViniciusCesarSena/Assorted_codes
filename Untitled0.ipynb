{
  "nbformat": 4,
  "nbformat_minor": 0,
  "metadata": {
    "colab": {
      "provenance": []
    },
    "kernelspec": {
      "name": "python3",
      "display_name": "Python 3"
    },
    "language_info": {
      "name": "python"
    }
  },
  "cells": [
    {
      "cell_type": "code",
      "execution_count": 1,
      "metadata": {
        "colab": {
          "base_uri": "https://localhost:8080/"
        },
        "id": "8eVbNy3wOFYo",
        "outputId": "9f0c6f43-bf22-4689-fb6e-c900cc96e3d9"
      },
      "outputs": [
        {
          "output_type": "stream",
          "name": "stdout",
          "text": [
            "Requirement already satisfied: scikit-learn in /usr/local/lib/python3.10/dist-packages (1.2.2)\n",
            "Requirement already satisfied: numpy>=1.17.3 in /usr/local/lib/python3.10/dist-packages (from scikit-learn) (1.25.2)\n",
            "Requirement already satisfied: scipy>=1.3.2 in /usr/local/lib/python3.10/dist-packages (from scikit-learn) (1.11.4)\n",
            "Requirement already satisfied: joblib>=1.1.1 in /usr/local/lib/python3.10/dist-packages (from scikit-learn) (1.4.0)\n",
            "Requirement already satisfied: threadpoolctl>=2.0.0 in /usr/local/lib/python3.10/dist-packages (from scikit-learn) (3.4.0)\n"
          ]
        }
      ],
      "source": [
        "!pip install scikit-learn\n"
      ]
    },
    {
      "cell_type": "code",
      "source": [
        "# Importando as bibliotecas necessárias\n",
        "import numpy as np\n",
        "import pandas as pd\n",
        "from sklearn.model_selection import train_test_split\n",
        "from sklearn.linear_model import LinearRegression\n",
        "from sklearn.metrics import mean_squared_error\n",
        "\n",
        "# Carregando os dados de exemplo (você pode substituir isso pelo seu conjunto de dados)\n",
        "# Aqui estou usando um conjunto de dados fictício apenas para fins de demonstração\n",
        "data = {\n",
        "    'Molecular_Weight': [100, 150, 200, 250, 300],\n",
        "    'LogP': [1.2, 1.5, 1.8, 2.1, 2.4],\n",
        "    'Solubility': [0.1, 0.3, 0.5, 0.7, 0.9]\n",
        "}\n",
        "df = pd.DataFrame(data)\n",
        "\n",
        "# Separando os dados em recursos (X) e alvo (y)\n",
        "X = df[['Molecular_Weight', 'LogP']]\n",
        "y = df['Solubility']\n",
        "\n",
        "# Dividindo os dados em conjunto de treinamento e conjunto de teste\n",
        "X_train, X_test, y_train, y_test = train_test_split(X, y, test_size=0.2, random_state=42)\n",
        "\n",
        "# Criando o modelo de regressão linear\n",
        "model = LinearRegression()\n",
        "\n",
        "# Treinando o modelo com os dados de treinamento\n",
        "model.fit(X_train, y_train)\n",
        "\n",
        "# Fazendo previsões no conjunto de teste\n",
        "y_pred = model.predict(X_test)\n",
        "\n",
        "# Avaliando o modelo\n",
        "mse = mean_squared_error(y_test, y_pred)\n",
        "print(\"Erro médio quadrático:\", mse)\n",
        "\n",
        "# Exibindo os coeficientes do modelo\n",
        "print(\"Coeficientes do modelo:\")\n",
        "print(\"Intercept:\", model.intercept_)\n",
        "print(\"Coeficientes:\", model.coef_)\n"
      ],
      "metadata": {
        "colab": {
          "base_uri": "https://localhost:8080/"
        },
        "id": "Z5KuerZkOGxV",
        "outputId": "c1d952f4-61b3-46a3-85b1-0eed8233fb2b"
      },
      "execution_count": 2,
      "outputs": [
        {
          "output_type": "stream",
          "name": "stdout",
          "text": [
            "Erro médio quadrático: 2.7733391199176196e-32\n",
            "Coeficientes do modelo:\n",
            "Intercept: -0.30001439948161945\n",
            "Coeficientes: [3.99985601e-03 2.39991360e-05]\n"
          ]
        }
      ]
    },
    {
      "cell_type": "code",
      "source": [
        "import matplotlib.pyplot as plt\n",
        "\n",
        "# Plotando as previsões vs valores reais\n",
        "plt.scatter(y_test, y_pred)\n",
        "plt.plot([min(y_test), max(y_test)], [min(y_test), max(y_test)], '--', color='red')  # Linha de referência (ideal)\n",
        "plt.xlabel('Solubilidade Real')\n",
        "plt.ylabel('Solubilidade Prevista')\n",
        "plt.title('Previsões do Modelo vs Valores Reais')\n",
        "plt.show()\n"
      ],
      "metadata": {
        "colab": {
          "base_uri": "https://localhost:8080/",
          "height": 472
        },
        "id": "wqti21fLOnCM",
        "outputId": "f89e60ba-4431-4d83-fb95-2914757ddbc9"
      },
      "execution_count": 3,
      "outputs": [
        {
          "output_type": "display_data",
          "data": {
            "text/plain": [
              "<Figure size 640x480 with 1 Axes>"
            ],
            "image/png": "[encoded data removed]"
          },
          "metadata": {}
        }
      ]
    },
    {
      "cell_type": "code",
      "source": [
        "import numpy as np\n",
        "import pandas as pd\n",
        "from sklearn.model_selection import train_test_split\n",
        "from sklearn.linear_model import LinearRegression\n",
        "import matplotlib.pyplot as plt\n",
        "\n",
        "# Gerando dados de exemplo com valores mais realistas\n",
        "np.random.seed(42)\n",
        "num_samples = 1000\n",
        "Molecular_Weight = np.random.normal(200, 50, num_samples)\n",
        "LogP = np.random.normal(2, 0.5, num_samples)\n",
        "Solubility = 0.005 * Molecular_Weight + 0.02 * LogP + np.random.normal(0, 0.1, num_samples)\n",
        "\n",
        "# Criando um DataFrame com os dados gerados\n",
        "df = pd.DataFrame({'Molecular_Weight': Molecular_Weight,\n",
        "                   'LogP': LogP,\n",
        "                   'Solubility': Solubility})\n",
        "\n",
        "# Separando os dados em recursos (X) e alvo (y)\n",
        "X = df[['Molecular_Weight', 'LogP']]\n",
        "y = df['Solubility']\n",
        "\n",
        "# Dividindo os dados em conjunto de treinamento e conjunto de teste\n",
        "X_train, X_test, y_train, y_test = train_test_split(X, y, test_size=0.2, random_state=42)\n",
        "\n",
        "# Criando o modelo de regressão linear\n",
        "model = LinearRegression()\n",
        "\n",
        "# Treinando o modelo com os dados de treinamento\n",
        "model.fit(X_train, y_train)\n",
        "\n",
        "# Fazendo previsões no conjunto de teste\n",
        "y_pred = model.predict(X_test)\n",
        "\n",
        "# Plotando as previsões vs valores reais\n",
        "plt.scatter(y_test, y_pred)\n",
        "plt.plot([min(y_test), max(y_test)], [min(y_test), max(y_test)], '--', color='red')  # Linha de referência (ideal)\n",
        "plt.xlabel('Solubilidade Real')\n",
        "plt.ylabel('Solubilidade Prevista')\n",
        "plt.title('Previsões do Modelo vs Valores Reais')\n",
        "plt.show()\n"
      ],
      "metadata": {
        "colab": {
          "base_uri": "https://localhost:8080/",
          "height": 472
        },
        "id": "fVmNJ9BXPDn0",
        "outputId": "855f2c44-2c4d-431c-a098-78f9eb311704"
      },
      "execution_count": 6,
      "outputs": [
        {
          "output_type": "display_data",
          "data": {
            "text/plain": [
              "<Figure size 640x480 with 1 Axes>"
            ],
            "image/png": "[encoded data removed]"
          },
          "metadata": {}
        }
      ]
    },
    {
      "cell_type": "code",
      "source": [
        "from sklearn.metrics import r2_score\n",
        "\n",
        "# Calculando o coeficiente de determinação (R^2)\n",
        "r2 = r2_score(y_test, y_pred)\n",
        "print(\"Coeficiente de determinação (R^2):\", r2)\n"
      ],
      "metadata": {
        "colab": {
          "base_uri": "https://localhost:8080/"
        },
        "id": "H6podmtYPdML",
        "outputId": "61b167d6-1f2e-403e-e6b7-412d9881d12e"
      },
      "execution_count": 7,
      "outputs": [
        {
          "output_type": "stream",
          "name": "stdout",
          "text": [
            "Coeficiente de determinação (R^2): 0.8560539663213931\n"
          ]
        }
      ]
    },
    {
      "cell_type": "code",
      "source": [
        "# Ajustando as características de entrada para corresponder ao modelo treinado\n",
        "elementos['Molecular_Weight'] = elementos['Proporcao_Hidrogenio'] + elementos['Proporcao_Oxigenio']\n",
        "elementos['LogP'] = elementos['Proporcao_Hidrogenio'] / elementos['Molecular_Weight']\n",
        "\n",
        "# Selecionando apenas as características relevantes para a previsão\n",
        "elementos = elementos[['Molecular_Weight', 'LogP']]\n",
        "\n",
        "# Fazendo previsões de solubilidade para as combinações\n",
        "solubilidade_predita = model.predict(elementos)\n",
        "\n",
        "# Definindo uma função simples para determinar se a água é solúvel ou não\n",
        "def determinar_solubilidade(solubilidade):\n",
        "    if solubilidade > 0.5:  # Arbitrariamente, vamos considerar solúvel se a solubilidade prevista for maior que 0.5\n",
        "        return 'Solúvel'\n",
        "    else:\n",
        "        return 'Insolúvel'\n",
        "\n",
        "# Aplicando a função para determinar a solubilidade de cada combinação\n",
        "elementos['Solubilidade'] = solubilidade_predita\n",
        "elementos['Solubilidade'] = elementos['Solubilidade'].apply(determinar_solubilidade)\n",
        "\n",
        "print(elementos)\n"
      ],
      "metadata": {
        "colab": {
          "base_uri": "https://localhost:8080/"
        },
        "id": "twa5_EPNQL7F",
        "outputId": "8c14277e-ed9d-44f0-d211-7d47e01254e9"
      },
      "execution_count": 15,
      "outputs": [
        {
          "output_type": "stream",
          "name": "stdout",
          "text": [
            "   Molecular_Weight      LogP Solubilidade\n",
            "0               1.0  0.666667    Insolúvel\n",
            "1               1.0  0.333333    Insolúvel\n",
            "2               1.0  1.000000    Insolúvel\n",
            "3               1.0  0.750000    Insolúvel\n",
            "4               1.0  0.500000    Insolúvel\n",
            "5               1.0  0.250000    Insolúvel\n",
            "6               1.0  0.100000    Insolúvel\n",
            "7               1.0  0.900000    Insolúvel\n",
            "8               1.0  0.800000    Insolúvel\n",
            "9               1.0  0.600000    Insolúvel\n"
          ]
        },
        {
          "output_type": "stream",
          "name": "stderr",
          "text": [
            "<ipython-input-15-e259a57b8948>:19: SettingWithCopyWarning: \n",
            "A value is trying to be set on a copy of a slice from a DataFrame.\n",
            "Try using .loc[row_indexer,col_indexer] = value instead\n",
            "\n",
            "See the caveats in the documentation: https://pandas.pydata.org/pandas-docs/stable/user_guide/indexing.html#returning-a-view-versus-a-copy\n",
            "  elementos['Solubilidade'] = solubilidade_predita\n",
            "<ipython-input-15-e259a57b8948>:20: SettingWithCopyWarning: \n",
            "A value is trying to be set on a copy of a slice from a DataFrame.\n",
            "Try using .loc[row_indexer,col_indexer] = value instead\n",
            "\n",
            "See the caveats in the documentation: https://pandas.pydata.org/pandas-docs/stable/user_guide/indexing.html#returning-a-view-versus-a-copy\n",
            "  elementos['Solubilidade'] = elementos['Solubilidade'].apply(determinar_solubilidade)\n"
          ]
        }
      ]
    },
    {
      "cell_type": "code",
      "source": [
        "elementos.head()"
      ],
      "metadata": {
        "colab": {
          "base_uri": "https://localhost:8080/",
          "height": 206
        },
        "id": "zFIZVMfsQ-wT",
        "outputId": "1db0559b-8ad6-4af2-b5de-ec81b0318f20"
      },
      "execution_count": 18,
      "outputs": [
        {
          "output_type": "execute_result",
          "data": {
            "text/plain": [
              "   Molecular_Weight      LogP Solubilidade\n",
              "0               1.0  0.666667    Insolúvel\n",
              "1               1.0  0.333333    Insolúvel\n",
              "2               1.0  1.000000    Insolúvel\n",
              "3               1.0  0.750000    Insolúvel\n",
              "4               1.0  0.500000    Insolúvel"
            ],
            "text/html": [
              "\n",
              "  <div id=\"df-63d58ef1-2867-4e00-91f2-b845ff270ae6\" class=\"colab-df-container\">\n",
              "    <div>\n",
              "<style scoped>\n",
              "    .dataframe tbody tr th:only-of-type {\n",
              "        vertical-align: middle;\n",
              "    }\n",
              "\n",
              "    .dataframe tbody tr th {\n",
              "        vertical-align: top;\n",
              "    }\n",
              "\n",
              "    .dataframe thead th {\n",
              "        text-align: right;\n",
              "    }\n",
              "</style>\n",
              "<table border=\"1\" class=\"dataframe\">\n",
              "  <thead>\n",
              "    <tr style=\"text-align: right;\">\n",
              "      <th></th>\n",
              "      <th>Molecular_Weight</th>\n",
              "      <th>LogP</th>\n",
              "      <th>Solubilidade</th>\n",
              "    </tr>\n",
              "  </thead>\n",
              "  <tbody>\n",
              "    <tr>\n",
              "      <th>0</th>\n",
              "      <td>1.0</td>\n",
              "      <td>0.666667</td>\n",
              "      <td>Insolúvel</td>\n",
              "    </tr>\n",
              "    <tr>\n",
              "      <th>1</th>\n",
              "      <td>1.0</td>\n",
              "      <td>0.333333</td>\n",
              "      <td>Insolúvel</td>\n",
              "    </tr>\n",
              "    <tr>\n",
              "      <th>2</th>\n",
              "      <td>1.0</td>\n",
              "      <td>1.000000</td>\n",
              "      <td>Insolúvel</td>\n",
              "    </tr>\n",
              "    <tr>\n",
              "      <th>3</th>\n",
              "      <td>1.0</td>\n",
              "      <td>0.750000</td>\n",
              "      <td>Insolúvel</td>\n",
              "    </tr>\n",
              "    <tr>\n",
              "      <th>4</th>\n",
              "      <td>1.0</td>\n",
              "      <td>0.500000</td>\n",
              "      <td>Insolúvel</td>\n",
              "    </tr>\n",
              "  </tbody>\n",
              "</table>\n",
              "</div>\n",
              "    <div class=\"colab-df-buttons\">\n",
              "\n",
              "  <div class=\"colab-df-container\">\n",
              "    <button class=\"colab-df-convert\" onclick=\"convertToInteractive('df-63d58ef1-2867-4e00-91f2-b845ff270ae6')\"\n",
              "            title=\"Convert this dataframe to an interactive table.\"\n",
              "            style=\"display:none;\">\n",
              "\n",
              "  <svg xmlns=\"http://www.w3.org/2000/svg\" height=\"24px\" viewBox=\"0 -960 960 960\">\n",
              "    <path d=\"M120-120v-720h720v720H120Zm60-500h600v-160H180v160Zm220 220h160v-160H400v160Zm0 220h160v-160H400v160ZM180-400h160v-160H180v160Zm440 0h160v-160H620v160ZM180-180h160v-160H180v160Zm440 0h160v-160H620v160Z\"/>\n",
              "  </svg>\n",
              "    </button>\n",
              "\n",
              "  <style>\n",
              "    .colab-df-container {\n",
              "      display:flex;\n",
              "      gap: 12px;\n",
              "    }\n",
              "\n",
              "    .colab-df-convert {\n",
              "      background-color: #E8F0FE;\n",
              "      border: none;\n",
              "      border-radius: 50%;\n",
              "      cursor: pointer;\n",
              "      display: none;\n",
              "      fill: #1967D2;\n",
              "      height: 32px;\n",
              "      padding: 0 0 0 0;\n",
              "      width: 32px;\n",
              "    }\n",
              "\n",
              "    .colab-df-convert:hover {\n",
              "      background-color: #E2EBFA;\n",
              "      box-shadow: 0px 1px 2px rgba(60, 64, 67, 0.3), 0px 1px 3px 1px rgba(60, 64, 67, 0.15);\n",
              "      fill: #174EA6;\n",
              "    }\n",
              "\n",
              "    .colab-df-buttons div {\n",
              "      margin-bottom: 4px;\n",
              "    }\n",
              "\n",
              "    [theme=dark] .colab-df-convert {\n",
              "      background-color: #3B4455;\n",
              "      fill: #D2E3FC;\n",
              "    }\n",
              "\n",
              "    [theme=dark] .colab-df-convert:hover {\n",
              "      background-color: #434B5C;\n",
              "      box-shadow: 0px 1px 3px 1px rgba(0, 0, 0, 0.15);\n",
              "      filter: drop-shadow(0px 1px 2px rgba(0, 0, 0, 0.3));\n",
              "      fill: #FFFFFF;\n",
              "    }\n",
              "  </style>\n",
              "\n",
              "    <script>\n",
              "      const buttonEl =\n",
              "        document.querySelector('#df-63d58ef1-2867-4e00-91f2-b845ff270ae6 button.colab-df-convert');\n",
              "      buttonEl.style.display =\n",
              "        google.colab.kernel.accessAllowed ? 'block' : 'none';\n",
              "\n",
              "      async function convertToInteractive(key) {\n",
              "        const element = document.querySelector('#df-63d58ef1-2867-4e00-91f2-b845ff270ae6');\n",
              "        const dataTable =\n",
              "          await google.colab.kernel.invokeFunction('convertToInteractive',\n",
              "                                                    [key], {});\n",
              "        if (!dataTable) return;\n",
              "\n",
              "        const docLinkHtml = 'Like what you see? Visit the ' +\n",
              "          '<a target=\"_blank\" href=https://colab.research.google.com/notebooks/data_table.ipynb>data table notebook</a>'\n",
              "          + ' to learn more about interactive tables.';\n",
              "        element.innerHTML = '';\n",
              "        dataTable['output_type'] = 'display_data';\n",
              "        await google.colab.output.renderOutput(dataTable, element);\n",
              "        const docLink = document.createElement('div');\n",
              "        docLink.innerHTML = docLinkHtml;\n",
              "        element.appendChild(docLink);\n",
              "      }\n",
              "    </script>\n",
              "  </div>\n",
              "\n",
              "\n",
              "<div id=\"df-b5e4de2f-ca66-4597-a617-49adc31559dd\">\n",
              "  <button class=\"colab-df-quickchart\" onclick=\"quickchart('df-b5e4de2f-ca66-4597-a617-49adc31559dd')\"\n",
              "            title=\"Suggest charts\"\n",
              "            style=\"display:none;\">\n",
              "\n",
              "<svg xmlns=\"http://www.w3.org/2000/svg\" height=\"24px\"viewBox=\"0 0 24 24\"\n",
              "     width=\"24px\">\n",
              "    <g>\n",
              "        <path d=\"M19 3H5c-1.1 0-2 .9-2 2v14c0 1.1.9 2 2 2h14c1.1 0 2-.9 2-2V5c0-1.1-.9-2-2-2zM9 17H7v-7h2v7zm4 0h-2V7h2v10zm4 0h-2v-4h2v4z\"/>\n",
              "    </g>\n",
              "</svg>\n",
              "  </button>\n",
              "\n",
              "<style>\n",
              "  .colab-df-quickchart {\n",
              "      --bg-color: #E8F0FE;\n",
              "      --fill-color: #1967D2;\n",
              "      --hover-bg-color: #E2EBFA;\n",
              "      --hover-fill-color: #174EA6;\n",
              "      --disabled-fill-color: #AAA;\n",
              "      --disabled-bg-color: #DDD;\n",
              "  }\n",
              "\n",
              "  [theme=dark] .colab-df-quickchart {\n",
              "      --bg-color: #3B4455;\n",
              "      --fill-color: #D2E3FC;\n",
              "      --hover-bg-color: #434B5C;\n",
              "      --hover-fill-color: #FFFFFF;\n",
              "      --disabled-bg-color: #3B4455;\n",
              "      --disabled-fill-color: #666;\n",
              "  }\n",
              "\n",
              "  .colab-df-quickchart {\n",
              "    background-color: var(--bg-color);\n",
              "    border: none;\n",
              "    border-radius: 50%;\n",
              "    cursor: pointer;\n",
              "    display: none;\n",
              "    fill: var(--fill-color);\n",
              "    height: 32px;\n",
              "    padding: 0;\n",
              "    width: 32px;\n",
              "  }\n",
              "\n",
              "  .colab-df-quickchart:hover {\n",
              "    background-color: var(--hover-bg-color);\n",
              "    box-shadow: 0 1px 2px rgba(60, 64, 67, 0.3), 0 1px 3px 1px rgba(60, 64, 67, 0.15);\n",
              "    fill: var(--button-hover-fill-color);\n",
              "  }\n",
              "\n",
              "  .colab-df-quickchart-complete:disabled,\n",
              "  .colab-df-quickchart-complete:disabled:hover {\n",
              "    background-color: var(--disabled-bg-color);\n",
              "    fill: var(--disabled-fill-color);\n",
              "    box-shadow: none;\n",
              "  }\n",
              "\n",
              "  .colab-df-spinner {\n",
              "    border: 2px solid var(--fill-color);\n",
              "    border-color: transparent;\n",
              "    border-bottom-color: var(--fill-color);\n",
              "    animation:\n",
              "      spin 1s steps(1) infinite;\n",
              "  }\n",
              "\n",
              "  @keyframes spin {\n",
              "    0% {\n",
              "      border-color: transparent;\n",
              "      border-bottom-color: var(--fill-color);\n",
              "      border-left-color: var(--fill-color);\n",
              "    }\n",
              "    20% {\n",
              "      border-color: transparent;\n",
              "      border-left-color: var(--fill-color);\n",
              "      border-top-color: var(--fill-color);\n",
              "    }\n",
              "    30% {\n",
              "      border-color: transparent;\n",
              "      border-left-color: var(--fill-color);\n",
              "      border-top-color: var(--fill-color);\n",
              "      border-right-color: var(--fill-color);\n",
              "    }\n",
              "    40% {\n",
              "      border-color: transparent;\n",
              "      border-right-color: var(--fill-color);\n",
              "      border-top-color: var(--fill-color);\n",
              "    }\n",
              "    60% {\n",
              "      border-color: transparent;\n",
              "      border-right-color: var(--fill-color);\n",
              "    }\n",
              "    80% {\n",
              "      border-color: transparent;\n",
              "      border-right-color: var(--fill-color);\n",
              "      border-bottom-color: var(--fill-color);\n",
              "    }\n",
              "    90% {\n",
              "      border-color: transparent;\n",
              "      border-bottom-color: var(--fill-color);\n",
              "    }\n",
              "  }\n",
              "</style>\n",
              "\n",
              "  <script>\n",
              "    async function quickchart(key) {\n",
              "      const quickchartButtonEl =\n",
              "        document.querySelector('#' + key + ' button');\n",
              "      quickchartButtonEl.disabled = true;  // To prevent multiple clicks.\n",
              "      quickchartButtonEl.classList.add('colab-df-spinner');\n",
              "      try {\n",
              "        const charts = await google.colab.kernel.invokeFunction(\n",
              "            'suggestCharts', [key], {});\n",
              "      } catch (error) {\n",
              "        console.error('Error during call to suggestCharts:', error);\n",
              "      }\n",
              "      quickchartButtonEl.classList.remove('colab-df-spinner');\n",
              "      quickchartButtonEl.classList.add('colab-df-quickchart-complete');\n",
              "    }\n",
              "    (() => {\n",
              "      let quickchartButtonEl =\n",
              "        document.querySelector('#df-b5e4de2f-ca66-4597-a617-49adc31559dd button');\n",
              "      quickchartButtonEl.style.display =\n",
              "        google.colab.kernel.accessAllowed ? 'block' : 'none';\n",
              "    })();\n",
              "  </script>\n",
              "</div>\n",
              "    </div>\n",
              "  </div>\n"
            ],
            "application/vnd.google.colaboratory.intrinsic+json": {
              "type": "dataframe",
              "variable_name": "elementos",
              "summary": "{\n  \"name\": \"elementos\",\n  \"rows\": 10,\n  \"fields\": [\n    {\n      \"column\": \"Molecular_Weight\",\n      \"properties\": {\n        \"dtype\": \"number\",\n        \"std\": 0.0,\n        \"min\": 1.0,\n        \"max\": 1.0,\n        \"num_unique_values\": 1,\n        \"samples\": [\n          1.0\n        ],\n        \"semantic_type\": \"\",\n        \"description\": \"\"\n      }\n    },\n    {\n      \"column\": \"LogP\",\n      \"properties\": {\n        \"dtype\": \"number\",\n        \"std\": 0.2924143854866005,\n        \"min\": 0.1,\n        \"max\": 1.0,\n        \"num_unique_values\": 10,\n        \"samples\": [\n          0.8\n        ],\n        \"semantic_type\": \"\",\n        \"description\": \"\"\n      }\n    },\n    {\n      \"column\": \"Solubilidade\",\n      \"properties\": {\n        \"dtype\": \"category\",\n        \"num_unique_values\": 1,\n        \"samples\": [\n          \"Insol\\u00favel\"\n        ],\n        \"semantic_type\": \"\",\n        \"description\": \"\"\n      }\n    }\n  ]\n}"
            }
          },
          "metadata": {},
          "execution_count": 18
        }
      ]
    },
    {
      "cell_type": "code",
      "source": [
        "# Criando exemplos de combinações de elementos para formar água (H2O)\n",
        "elementos = pd.DataFrame({\n",
        "    'Proporcao_Hidrogenio': [2/3, 1/3, 1, 0.75, 0.5, 0.25, 0.1, 0.9, 0.8, 0.6],\n",
        "    'Proporcao_Oxigenio': [1/3, 2/3, 0, 0.25, 0.5, 0.75, 0.9, 0.1, 0.2, 0.4]\n",
        "})\n",
        "\n",
        "# Adicionando mais detalhes sobre cada elemento\n",
        "elementos['Molecular_Weight'] = elementos['Proporcao_Hidrogenio'] + elementos['Proporcao_Oxigenio']\n",
        "elementos['LogP'] = elementos['Proporcao_Hidrogenio'] / elementos['Molecular_Weight']\n",
        "elementos['Solubilidade'] = model.predict(elementos[['Molecular_Weight', 'LogP']])\n",
        "\n",
        "# Definindo a fórmula usada\n",
        "formula = \"Solubilidade = 0.004 * Molecular_Weight + 0.00002 * LogP - 0.3\"\n",
        "\n",
        "# Definindo uma função simples para determinar a solubilidade de cada elemento\n",
        "def determinar_solubilidade(solubilidade):\n",
        "    if solubilidade > 0.5:\n",
        "        return 'Solúvel'\n",
        "    else:\n",
        "        return 'Insolúvel'\n",
        "\n",
        "# Aplicando a função para determinar a solubilidade de cada elemento\n",
        "elementos['Solubilidade'] = elementos['Solubilidade'].apply(determinar_solubilidade)\n",
        "\n",
        "# Formatando a saída como uma tabela\n",
        "print(\"Fórmula usada:\")\n",
        "print(formula)\n",
        "print(\"\\nResultados das previsões:\")\n",
        "print(elementos.head().to_string(index=False))\n"
      ],
      "metadata": {
        "colab": {
          "base_uri": "https://localhost:8080/"
        },
        "id": "hun4uKyXSgVe",
        "outputId": "5358670f-b75c-4e9d-bb6a-cb3bb79d0248"
      },
      "execution_count": 25,
      "outputs": [
        {
          "output_type": "stream",
          "name": "stdout",
          "text": [
            "Fórmula usada:\n",
            "Solubilidade = 0.004 * Molecular_Weight + 0.00002 * LogP - 0.3\n",
            "\n",
            "Resultados das previsões:\n",
            " Proporcao_Hidrogenio  Proporcao_Oxigenio  Molecular_Weight     LogP Solubilidade\n",
            "             0.666667            0.333333               1.0 0.666667    Insolúvel\n",
            "             0.333333            0.666667               1.0 0.333333    Insolúvel\n",
            "             1.000000            0.000000               1.0 1.000000    Insolúvel\n",
            "             0.750000            0.250000               1.0 0.750000    Insolúvel\n",
            "             0.500000            0.500000               1.0 0.500000    Insolúvel\n"
          ]
        }
      ]
    },
    {
      "cell_type": "markdown",
      "source": [
        "# Definindo a fórmula usada para prever a solubilidade\n",
        "        formula = \"Solubilidade = 0.004 * Molecular_Weight + 0.00002 * LogP - 0.3\"\n",
        "\n",
        "\n",
        "---\n",
        "\n",
        "\n",
        " - 0.004 * Molecular_Weight: Multiplicamos o peso molecular de cada elemento por 0.004.\n",
        "        O peso molecular é a soma das proporções de hidrogênio, oxigênio e nitrogênio.\n",
        "        Este termo captura a influência do peso molecular na solubilidade.\n",
        "\n",
        " - 0.00002 * LogP: Multiplicamos o LogP de cada elemento por 0.00002.\n",
        "        LogP é uma medida da hidrofobicidade de uma substância.\n",
        "        Este termo captura a influência da hidrofobicidade na solubilidade.\n",
        "\n",
        " - 0.3: Subtraímos 0.3 do resultado da soma dos dois termos anteriores.\n",
        "        Este é um ajuste de viés para melhorar a precisão da previsão.\n"
      ],
      "metadata": {
        "id": "KCYFD8ahTYet"
      }
    }
  ]
}